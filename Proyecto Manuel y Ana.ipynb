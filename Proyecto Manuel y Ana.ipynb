{
 "cells": [
  {
   "cell_type": "code",
   "execution_count": 1,
   "id": "e68985dd",
   "metadata": {},
   "outputs": [],
   "source": [
    "from numpy.lib.function_base import copy\n",
    "import pandas as pd\n",
    "import networkx as nx\n",
    "import matplotlib.pyplot as plt\n",
    "from matplotlib import pyplot\n",
    "from sklearn import tree\n",
    "from sklearn import metrics\n",
    "from sklearn import preprocessing\n",
    "from sklearn import model_selection\n",
    "from sklearn.ensemble import RandomForestClassifier\n",
    "from sklearn import naive_bayes\n",
    "from sklearn import neighbors\n",
    "import numpy as np"
   ]
  },
  {
   "cell_type": "code",
   "execution_count": 2,
   "id": "9ec820bc",
   "metadata": {},
   "outputs": [
    {
     "name": "stdout",
     "output_type": "stream",
     "text": [
      "    1   2   3   4   5   6   7   8   9   10  ...  45  46  47  48  49  50  51  \\\n",
      "1    0   1   1   2   1   1   2   3   2   2  ...   1   1   0   0   0   0   1   \n",
      "2    1   0   3   0   0   2   1   2   1   2  ...   0   0   0   0   0   0   0   \n",
      "3    1   3   0   4   4   3   1   3   2   2  ...   0   0   0   0   0   0   0   \n",
      "4    2   0   4   0   4   3   1   0   0   0  ...   0   0   0   0   1   0   0   \n",
      "5    1   0   4   4   0   3   1   0   1   1  ...   0   0   1   0   1   0   0   \n",
      "6    1   2   3   3   3   0   1   0   0   0  ...   0   0   0   0   1   0   0   \n",
      "7    2   1   1   1   1   1   0   1   2   2  ...   0   1   1   1   0   0   0   \n",
      "8    3   2   3   0   0   0   1   0   2   2  ...   0   0   0   0   0   0   0   \n",
      "9    2   1   2   0   1   0   2   2   0   4  ...   0   1   0   0   0   0   0   \n",
      "10   2   2   2   0   1   0   2   2   4   0  ...   0   0   0   0   0   0   0   \n",
      "\n",
      "    52  53  54  \n",
      "1    0   0   0  \n",
      "2    0   0   0  \n",
      "3    0   0   2  \n",
      "4    0   0   0  \n",
      "5    0   0   0  \n",
      "6    0   0   0  \n",
      "7    0   0   0  \n",
      "8    0   0   0  \n",
      "9    0   0   0  \n",
      "10   0   0   1  \n",
      "\n",
      "[10 rows x 54 columns]\n"
     ]
    }
   ],
   "source": [
    "#leemos los datos indicando que no tenemos cabecera, tambien le quitamos la primera fila y la prmiera columna que son indices\n",
    "aristas = pd.read_csv('LONDON_GANG.csv',header=None)\n",
    "#comienza la matriz desde la fila1, columna1\n",
    "aristas = aristas.iloc[1: ,1:] \n",
    "#mostramos las 10 primeras filas\n",
    "print(aristas.head(10))"
   ]
  },
  {
   "cell_type": "code",
   "execution_count": 3,
   "id": "5eb02cc1",
   "metadata": {},
   "outputs": [
    {
     "name": "stdout",
     "output_type": "stream",
     "text": [
      "    Age  Birthplace  Residence  Arrests  Convictions  Prison  Music  Ranking\n",
      "1    20           2          0       16            7       1      0        2\n",
      "2    19           2          0       12            4       1      0        2\n",
      "3    21           2          0        8            1       0      0        2\n",
      "4    24           2          0       11            3       0      0        2\n",
      "5    25           3          1       17           10       0      0        2\n",
      "6    20           4          1        8            1       0      1        2\n",
      "7    21           1          0       15            6       1      1        3\n",
      "8    20           1          1        9            3       0      0        3\n",
      "9    23           1          1       12            4       1      1        3\n",
      "10   21           1          0       16            8       1      0        3\n",
      "11   25           3          0        5            3       0      1        3\n",
      "12   21           3          0       19            9       1      0        3\n",
      "13   19           3          0       23            9       0      1        3\n",
      "14   21           3          0       12            9       1      0        4\n",
      "15   19           3          0       14            7       1      0        4\n",
      "16   27           2          0       14            8       0      0        4\n",
      "17   25           2          0       23           13       1      0        3\n",
      "18   20           2          1       22            9       1      0        3\n",
      "19   20           1          1        8            2       0      0        3\n",
      "20   23           1          0        4            5       0      1        4\n",
      "21   20           1          0        5            2       0      1        3\n",
      "22   19           4          0       19            9       1      0        3\n",
      "23   16           4          0        0            0       0      0        4\n",
      "24   17           4          0        8            2       1      0        4\n",
      "25   18           4          0        0            0       0      0        4\n",
      "26   17           3          0        3            1       0      1        4\n",
      "27   22           3          1        2            0       1      0        3\n",
      "28   18           2          1        7            3       1      0        3\n",
      "29   19           2          1        6            3       1      0        3\n",
      "30   17           1          0       12            4       0      0        4\n",
      "31   16           1          0       13            3       0      0        4\n",
      "32   18           3          1       15            6       0      0        4\n",
      "33   17           3          1        2            1       1      0        4\n",
      "34   18           3          1        7            3       0      0        4\n",
      "35   17           3          1        7            2       1      0        4\n",
      "36   17           3          0        6            1       0      0        4\n",
      "37   20           2          0        6            2       0      0        4\n",
      "38   22           3          1        4            3       0      0        4\n",
      "39   23           1          1       18           12       1      0        4\n",
      "40   19           2          1        8            1       0      0        4\n",
      "41   18           3          0        7            4       0      0        4\n",
      "42   18           3          1        6            0       0      0        4\n",
      "43   18           3          1        7            1       0      0        4\n",
      "44   19           3          0       23           11       1      0        4\n",
      "45   18           3          0        5            2       1      0        4\n",
      "46   16           3          1        1            0       0      0        4\n",
      "47   20           3          1       12            9       1      0        4\n",
      "48   19           2          0        3            0       0      0        4\n",
      "49   19           1          0        3            1       0      0        5\n",
      "50   17           3          0        4            1       0      0        4\n",
      "51   18           3          0        1            0       0      0        5\n",
      "52   27           4          0       20           11       1      0        4\n",
      "53   20           3          0       11            4       1      0        3\n"
     ]
    }
   ],
   "source": [
    "#los atributos que en este caso son las caracteristicas de cada gangster, la linea de header es la fila 0, por defecto es 0\n",
    "nodos = pd.read_csv('LONDON_GANG_ATTR.csv', header=0)\n",
    "#la primera fila la cuenta como header\n",
    "#la columna unnamed: 0 de la quitamos\n",
    "nodos = nodos.iloc[1:, 1:]\n",
    "print(nodos)\n"
   ]
  },
  {
   "cell_type": "code",
   "execution_count": 4,
   "id": "2fc09da2",
   "metadata": {
    "scrolled": true
   },
   "outputs": [
    {
     "data": {
      "image/png": "[encoded data removed]",
      "text/plain": [
       "<Figure size 432x288 with 1 Axes>"
      ]
     },
     "metadata": {},
     "output_type": "display_data"
    }
   ],
   "source": [
    "#vamos a crear el grafo \n",
    "grafo = nx.Graph(aristas.values)\n",
    "#creamos el grafo dandole un tamaño 100 a los nodos, cada nodo es un gangster\n",
    "nx.draw_networkx(grafo, node_size=100)\n"
   ]
  },
  {
   "cell_type": "code",
   "execution_count": 5,
   "id": "e48b5b23",
   "metadata": {},
   "outputs": [
    {
     "name": "stdout",
     "output_type": "stream",
     "text": [
      "    Age  Birthplace  Residence  Arrests  Convictions  Prison  Music\n",
      "1    20           2          0       16            7       1      0\n",
      "2    19           2          0       12            4       1      0\n",
      "3    21           2          0        8            1       0      0\n",
      "4    24           2          0       11            3       0      0\n",
      "5    25           3          1       17           10       0      0\n",
      "6    20           4          1        8            1       0      1\n",
      "7    21           1          0       15            6       1      1\n",
      "8    20           1          1        9            3       0      0\n",
      "9    23           1          1       12            4       1      1\n",
      "10   21           1          0       16            8       1      0\n",
      "11   25           3          0        5            3       0      1\n",
      "12   21           3          0       19            9       1      0\n",
      "13   19           3          0       23            9       0      1\n",
      "14   21           3          0       12            9       1      0\n",
      "15   19           3          0       14            7       1      0\n",
      "16   27           2          0       14            8       0      0\n",
      "17   25           2          0       23           13       1      0\n",
      "18   20           2          1       22            9       1      0\n",
      "19   20           1          1        8            2       0      0\n",
      "20   23           1          0        4            5       0      1\n",
      "21   20           1          0        5            2       0      1\n",
      "22   19           4          0       19            9       1      0\n",
      "23   16           4          0        0            0       0      0\n",
      "24   17           4          0        8            2       1      0\n",
      "25   18           4          0        0            0       0      0\n",
      "26   17           3          0        3            1       0      1\n",
      "27   22           3          1        2            0       1      0\n",
      "28   18           2          1        7            3       1      0\n",
      "29   19           2          1        6            3       1      0\n",
      "30   17           1          0       12            4       0      0\n",
      "31   16           1          0       13            3       0      0\n",
      "32   18           3          1       15            6       0      0\n",
      "33   17           3          1        2            1       1      0\n",
      "34   18           3          1        7            3       0      0\n",
      "35   17           3          1        7            2       1      0\n",
      "36   17           3          0        6            1       0      0\n",
      "37   20           2          0        6            2       0      0\n",
      "38   22           3          1        4            3       0      0\n",
      "39   23           1          1       18           12       1      0\n",
      "40   19           2          1        8            1       0      0\n",
      "41   18           3          0        7            4       0      0\n",
      "42   18           3          1        6            0       0      0\n",
      "43   18           3          1        7            1       0      0\n",
      "44   19           3          0       23           11       1      0\n",
      "45   18           3          0        5            2       1      0\n",
      "46   16           3          1        1            0       0      0\n",
      "47   20           3          1       12            9       1      0\n",
      "48   19           2          0        3            0       0      0\n",
      "49   19           1          0        3            1       0      0\n",
      "50   17           3          0        4            1       0      0\n",
      "51   18           3          0        1            0       0      0\n",
      "52   27           4          0       20           11       1      0\n",
      "53   20           3          0       11            4       1      0\n"
     ]
    }
   ],
   "source": [
    "atributos = nodos\n",
    "objetivo = nodos['Ranking']\n",
    "print(atributos.iloc[:,:-1])"
   ]
  },
  {
   "cell_type": "code",
   "execution_count": 6,
   "id": "013b1ce6",
   "metadata": {},
   "outputs": [
    {
     "data": {
      "text/html": [
       "<style>#sk-container-id-1 {color: black;background-color: white;}#sk-container-id-1 pre{padding: 0;}#sk-container-id-1 div.sk-toggleable {background-color: white;}#sk-container-id-1 label.sk-toggleable__label {cursor: pointer;display: block;width: 100%;margin-bottom: 0;padding: 0.3em;box-sizing: border-box;text-align: center;}#sk-container-id-1 label.sk-toggleable__label-arrow:before {content: \"▸\";float: left;margin-right: 0.25em;color: #696969;}#sk-container-id-1 label.sk-toggleable__label-arrow:hover:before {color: black;}#sk-container-id-1 div.sk-estimator:hover label.sk-toggleable__label-arrow:before {color: black;}#sk-container-id-1 div.sk-toggleable__content {max-height: 0;max-width: 0;overflow: hidden;text-align: left;background-color: #f0f8ff;}#sk-container-id-1 div.sk-toggleable__content pre {margin: 0.2em;color: black;border-radius: 0.25em;background-color: #f0f8ff;}#sk-container-id-1 input.sk-toggleable__control:checked~div.sk-toggleable__content {max-height: 200px;max-width: 100%;overflow: auto;}#sk-container-id-1 input.sk-toggleable__control:checked~label.sk-toggleable__label-arrow:before {content: \"▾\";}#sk-container-id-1 div.sk-estimator input.sk-toggleable__control:checked~label.sk-toggleable__label {background-color: #d4ebff;}#sk-container-id-1 div.sk-label input.sk-toggleable__control:checked~label.sk-toggleable__label {background-color: #d4ebff;}#sk-container-id-1 input.sk-hidden--visually {border: 0;clip: rect(1px 1px 1px 1px);clip: rect(1px, 1px, 1px, 1px);height: 1px;margin: -1px;overflow: hidden;padding: 0;position: absolute;width: 1px;}#sk-container-id-1 div.sk-estimator {font-family: monospace;background-color: #f0f8ff;border: 1px dotted black;border-radius: 0.25em;box-sizing: border-box;margin-bottom: 0.5em;}#sk-container-id-1 div.sk-estimator:hover {background-color: #d4ebff;}#sk-container-id-1 div.sk-parallel-item::after {content: \"\";width: 100%;border-bottom: 1px solid gray;flex-grow: 1;}#sk-container-id-1 div.sk-label:hover label.sk-toggleable__label {background-color: #d4ebff;}#sk-container-id-1 div.sk-serial::before {content: \"\";position: absolute;border-left: 1px solid gray;box-sizing: border-box;top: 0;bottom: 0;left: 50%;z-index: 0;}#sk-container-id-1 div.sk-serial {display: flex;flex-direction: column;align-items: center;background-color: white;padding-right: 0.2em;padding-left: 0.2em;position: relative;}#sk-container-id-1 div.sk-item {position: relative;z-index: 1;}#sk-container-id-1 div.sk-parallel {display: flex;align-items: stretch;justify-content: center;background-color: white;position: relative;}#sk-container-id-1 div.sk-item::before, #sk-container-id-1 div.sk-parallel-item::before {content: \"\";position: absolute;border-left: 1px solid gray;box-sizing: border-box;top: 0;bottom: 0;left: 50%;z-index: -1;}#sk-container-id-1 div.sk-parallel-item {display: flex;flex-direction: column;z-index: 1;position: relative;background-color: white;}#sk-container-id-1 div.sk-parallel-item:first-child::after {align-self: flex-end;width: 50%;}#sk-container-id-1 div.sk-parallel-item:last-child::after {align-self: flex-start;width: 50%;}#sk-container-id-1 div.sk-parallel-item:only-child::after {width: 0;}#sk-container-id-1 div.sk-dashed-wrapped {border: 1px dashed gray;margin: 0 0.4em 0.5em 0.4em;box-sizing: border-box;padding-bottom: 0.4em;background-color: white;}#sk-container-id-1 div.sk-label label {font-family: monospace;font-weight: bold;display: inline-block;line-height: 1.2em;}#sk-container-id-1 div.sk-label-container {text-align: center;}#sk-container-id-1 div.sk-container {/* jupyter's `normalize.less` sets `[hidden] { display: none; }` but bootstrap.min.css set `[hidden] { display: none !important; }` so we also need the `!important` here to be able to override the default hidden behavior on the sphinx rendered scikit-learn.org. See: https://github.com/scikit-learn/scikit-learn/issues/21755 */display: inline-block !important;position: relative;}#sk-container-id-1 div.sk-text-repr-fallback {display: none;}</style><div id=\"sk-container-id-1\" class=\"sk-top-container\"><div class=\"sk-text-repr-fallback\"><pre>OrdinalEncoder()</pre><b>In a Jupyter environment, please rerun this cell to show the HTML representation or trust the notebook. <br />On GitHub, the HTML representation is unable to render, please try loading this page with nbviewer.org.</b></div><div class=\"sk-container\" hidden><div class=\"sk-item\"><div class=\"sk-estimator sk-toggleable\"><input class=\"sk-toggleable__control sk-hidden--visually\" id=\"sk-estimator-id-1\" type=\"checkbox\" checked><label for=\"sk-estimator-id-1\" class=\"sk-toggleable__label sk-toggleable__label-arrow\">OrdinalEncoder</label><div class=\"sk-toggleable__content\"><pre>OrdinalEncoder()</pre></div></div></div></div></div>"
      ],
      "text/plain": [
       "OrdinalEncoder()"
      ]
     },
     "execution_count": 6,
     "metadata": {},
     "output_type": "execute_result"
    }
   ],
   "source": [
    "codificador_atributos = preprocessing.OrdinalEncoder()\n",
    "codificador_atributos.fit(atributos.iloc[:,:-1])\n",
    "#Con este comando miras los valores que puede haber cuando el atributo ya esta codificado\n",
    "#print(codificador_atributos.categories_)"
   ]
  },
  {
   "cell_type": "code",
   "execution_count": 7,
   "id": "5b86f0ae",
   "metadata": {},
   "outputs": [],
   "source": [
    "atributos_codificados = codificador_atributos.transform(atributos.iloc[:,:-1])\n",
    "#print(atributos_codificados)"
   ]
  },
  {
   "cell_type": "code",
   "execution_count": 8,
   "id": "78864fc4",
   "metadata": {},
   "outputs": [],
   "source": [
    "codificador_objetivo = preprocessing.LabelEncoder()\n",
    "objetivo_codificado = codificador_objetivo.fit_transform(objetivo)"
   ]
  },
  {
   "cell_type": "code",
   "execution_count": 9,
   "id": "0d1912a4",
   "metadata": {},
   "outputs": [
    {
     "name": "stdout",
     "output_type": "stream",
     "text": [
      "Clases detectadas por el codificador para la variable objetivo\n",
      "[2 3 4 5]\n"
     ]
    }
   ],
   "source": [
    "print('Clases detectadas por el codificador para la variable objetivo')\n",
    "print(codificador_objetivo.classes_)"
   ]
  },
  {
   "cell_type": "code",
   "execution_count": 10,
   "id": "4326597e",
   "metadata": {},
   "outputs": [
    {
     "name": "stdout",
     "output_type": "stream",
     "text": [
      "Frecuencia total de cada clase de aceptabilidad (porcentaje de cada valor objetivo en nuestro conjunto)\n",
      "4    0.547170\n",
      "3    0.301887\n",
      "2    0.113208\n",
      "5    0.037736\n",
      "Name: Ranking, dtype: float64\n"
     ]
    }
   ],
   "source": [
    "# Cantidad total de ejemplos\n",
    "print('Frecuencia total de cada clase de aceptabilidad (porcentaje de cada valor objetivo en nuestro conjunto)')\n",
    "print(pd.Series(objetivo).value_counts(normalize=True))"
   ]
  },
  {
   "cell_type": "code",
   "execution_count": 11,
   "id": "42ec986c",
   "metadata": {},
   "outputs": [],
   "source": [
    "(atributos_entrenamiento, atributos_prueba,\n",
    " objetivo_entrenamiento, objetivo_prueba) = model_selection.train_test_split(\n",
    "        # Conjuntos de datos a dividir, usando los mismos índices para ambos\n",
    "        atributos_codificados, objetivo_codificado,\n",
    "        # Valor de la semilla aleatoria, para que el muestreo sea reproducible,\n",
    "        # a pesar de ser aleatorio\n",
    "        random_state=12345,\n",
    "        # Tamaño del conjunto de prueba\n",
    "        test_size=.20,\n",
    "        # Estratificamos respecto a la distribución de valores en la variable objetivo\n",
    "        stratify=objetivo_codificado)"
   ]
  },
  {
   "cell_type": "code",
   "execution_count": 12,
   "id": "9675a8ea",
   "metadata": {},
   "outputs": [
    {
     "name": "stdout",
     "output_type": "stream",
     "text": [
      "[2 2 2 2 1 2 1 3 0 1 2]\n"
     ]
    }
   ],
   "source": [
    "print(objetivo_prueba)"
   ]
  },
  {
   "cell_type": "code",
   "execution_count": 13,
   "id": "6cb3307b",
   "metadata": {
    "scrolled": false
   },
   "outputs": [
    {
     "name": "stdout",
     "output_type": "stream",
     "text": [
      "[[ 1.  2.  0.  3.  1.  0.  1.]\n",
      " [ 2.  3.  0.  0.  0.  0.  0.]\n",
      " [ 4.  2.  1. 11.  9.  1.  0.]\n",
      " [ 7.  0.  1. 17. 12.  1.  0.]\n",
      " [ 5.  2.  0. 18.  9.  1.  0.]\n",
      " [ 3.  1.  1.  8.  1.  0.  0.]\n",
      " [ 3.  1.  1.  6.  3.  1.  0.]\n",
      " [ 2.  2.  0.  1.  0.  0.  0.]\n",
      " [ 5.  1.  0.  8.  1.  0.  0.]\n",
      " [ 7.  0.  1. 11.  4.  1.  1.]\n",
      " [ 1.  2.  1.  2.  1.  1.  0.]]\n"
     ]
    }
   ],
   "source": [
    "print(atributos_prueba)"
   ]
  },
  {
   "cell_type": "code",
   "execution_count": 14,
   "id": "d2c14b75",
   "metadata": {},
   "outputs": [
    {
     "name": "stdout",
     "output_type": "stream",
     "text": [
      "[[ 5.  0.  0. 15.  8.  1.  0.]\n",
      " [ 1.  3.  0.  8.  2.  1.  0.]\n",
      " [ 1.  2.  0.  6.  1.  0.  0.]\n",
      " [ 7.  0.  0.  4.  5.  0.  1.]\n",
      " [ 0.  3.  0.  0.  0.  0.  0.]\n",
      " [ 2.  2.  0.  7.  4.  0.  0.]\n",
      " [ 3.  1.  0. 11.  4.  1.  0.]\n",
      " [ 2.  2.  1. 14.  6.  0.  0.]\n",
      " [ 8.  1.  0. 10.  3.  0.  0.]\n",
      " [ 9.  2.  1. 16. 10.  0.  0.]\n",
      " [ 4.  1.  1. 20.  9.  1.  0.]\n",
      " [ 9.  1.  0. 21. 13.  1.  0.]\n",
      " [ 6.  2.  1.  2.  0.  1.  0.]\n",
      " [ 2.  2.  1.  7.  1.  0.  0.]\n",
      " [ 4.  1.  0. 15.  7.  1.  0.]\n",
      " [ 2.  2.  1.  7.  3.  0.  0.]\n",
      " [ 5.  0.  0. 14.  6.  1.  1.]\n",
      " [ 3.  2.  0. 21. 11.  1.  0.]\n",
      " [ 1.  2.  0.  4.  1.  0.  0.]\n",
      " [ 4.  3.  1.  8.  1.  0.  1.]\n",
      " [ 4.  0.  1.  9.  3.  0.  0.]\n",
      " [ 9.  2.  0.  5.  3.  0.  1.]\n",
      " [ 3.  1.  0.  3.  0.  0.  0.]\n",
      " [ 1.  0.  0. 11.  4.  0.  0.]\n",
      " [ 3.  2.  0. 13.  7.  1.  0.]\n",
      " [ 1.  2.  1.  7.  2.  1.  0.]\n",
      " [ 5.  2.  0. 11.  9.  1.  0.]\n",
      " [10.  3.  0. 19. 11.  1.  0.]\n",
      " [ 6.  2.  1.  4.  3.  0.  0.]\n",
      " [ 4.  0.  0.  5.  2.  0.  1.]\n",
      " [ 4.  1.  0.  6.  2.  0.  0.]\n",
      " [ 2.  2.  0.  5.  2.  1.  0.]\n",
      " [ 0.  0.  0. 12.  3.  0.  0.]\n",
      " [ 3.  0.  0.  3.  1.  0.  0.]\n",
      " [ 2.  1.  1.  7.  3.  1.  0.]\n",
      " [ 4.  2.  0. 10.  4.  1.  0.]\n",
      " [ 0.  2.  1.  1.  0.  0.  0.]\n",
      " [ 2.  2.  1.  6.  0.  0.  0.]\n",
      " [10.  1.  0. 13.  8.  0.  0.]\n",
      " [ 3.  2.  0. 21.  9.  0.  1.]\n",
      " [ 4.  0.  1.  8.  2.  0.  0.]\n",
      " [ 3.  3.  0. 18.  9.  1.  0.]]\n"
     ]
    }
   ],
   "source": [
    "print(atributos_entrenamiento)"
   ]
  },
  {
   "cell_type": "code",
   "execution_count": 15,
   "id": "9682a15d",
   "metadata": {},
   "outputs": [
    {
     "name": "stdout",
     "output_type": "stream",
     "text": [
      "[1 2 2 2 2 2 0 2 0 0 1 1 1 2 0 2 1 2 2 0 1 1 2 2 2 2 2 2 2 1 2 2 2 3 1 1 2\n",
      " 2 2 1 1 1]\n"
     ]
    }
   ],
   "source": [
    "print(objetivo_entrenamiento)"
   ]
  },
  {
   "cell_type": "code",
   "execution_count": 16,
   "id": "ae90d308",
   "metadata": {
    "scrolled": true
   },
   "outputs": [
    {
     "name": "stdout",
     "output_type": "stream",
     "text": [
      "Cantidad de ejemplos de pruebas requeridos: 10.600000000000001\n",
      "Filas del array de atributos de prueba: 11\n",
      "Longitud del vector de objetivos de prueba: 11\n",
      "Proporción de clases en el vector de objetivos de prueba:\n",
      "4    0.545455\n",
      "3    0.272727\n",
      "5    0.090909\n",
      "2    0.090909\n",
      "dtype: float64\n"
     ]
    }
   ],
   "source": [
    "print('Cantidad de ejemplos de pruebas requeridos:', nodos.shape[0] * .20)\n",
    "print('Filas del array de atributos de prueba:', atributos_prueba.shape[0])\n",
    "print('Longitud del vector de objetivos de prueba:', len(objetivo_prueba))\n",
    "print('Proporción de clases en el vector de objetivos de prueba:')\n",
    "print(pd.Series(\n",
    "        codificador_objetivo.inverse_transform(objetivo_prueba)\n",
    "      ).value_counts(normalize=True))"
   ]
  },
  {
   "cell_type": "code",
   "execution_count": 17,
   "id": "c8e0c8ca",
   "metadata": {},
   "outputs": [
    {
     "name": "stdout",
     "output_type": "stream",
     "text": [
      "Cantidad de ejemplos de entrenamiento requeridos: 42.400000000000006\n",
      "Filas del array de atributos de entrenamiento: 42\n",
      "Longitud del vector de objetivos de entrenamiento: 42\n",
      "Proporción de clases en el vector de objetivos de entrenamiento:\n",
      "4    0.547619\n",
      "3    0.309524\n",
      "2    0.119048\n",
      "5    0.023810\n",
      "dtype: float64\n"
     ]
    }
   ],
   "source": [
    "print('Cantidad de ejemplos de entrenamiento requeridos:', nodos.shape[0] * .80)\n",
    "print('Filas del array de atributos de entrenamiento:', atributos_entrenamiento.shape[0])\n",
    "print('Longitud del vector de objetivos de entrenamiento:', len(objetivo_entrenamiento))\n",
    "print('Proporción de clases en el vector de objetivos de entrenamiento:')\n",
    "print(pd.Series(# Comprobamos que el \n",
    "        codificador_objetivo.inverse_transform(objetivo_entrenamiento)\n",
    "      ).value_counts(normalize=True))"
   ]
  },
  {
   "cell_type": "markdown",
   "id": "a17d8042",
   "metadata": {},
   "source": [
    "Los modelos los he sacado de la página oficial de sklearn:\n",
    "    https://scikit-learn.org/stable/supervised_learning.html#supervised-learning"
   ]
  },
  {
   "cell_type": "markdown",
   "id": "5e5577e1",
   "metadata": {},
   "source": [
    "# RANDOM FOREST"
   ]
  },
  {
   "cell_type": "code",
   "execution_count": 18,
   "id": "b401aef2",
   "metadata": {},
   "outputs": [
    {
     "data": {
      "text/html": [
       "<style>#sk-container-id-2 {color: black;background-color: white;}#sk-container-id-2 pre{padding: 0;}#sk-container-id-2 div.sk-toggleable {background-color: white;}#sk-container-id-2 label.sk-toggleable__label {cursor: pointer;display: block;width: 100%;margin-bottom: 0;padding: 0.3em;box-sizing: border-box;text-align: center;}#sk-container-id-2 label.sk-toggleable__label-arrow:before {content: \"▸\";float: left;margin-right: 0.25em;color: #696969;}#sk-container-id-2 label.sk-toggleable__label-arrow:hover:before {color: black;}#sk-container-id-2 div.sk-estimator:hover label.sk-toggleable__label-arrow:before {color: black;}#sk-container-id-2 div.sk-toggleable__content {max-height: 0;max-width: 0;overflow: hidden;text-align: left;background-color: #f0f8ff;}#sk-container-id-2 div.sk-toggleable__content pre {margin: 0.2em;color: black;border-radius: 0.25em;background-color: #f0f8ff;}#sk-container-id-2 input.sk-toggleable__control:checked~div.sk-toggleable__content {max-height: 200px;max-width: 100%;overflow: auto;}#sk-container-id-2 input.sk-toggleable__control:checked~label.sk-toggleable__label-arrow:before {content: \"▾\";}#sk-container-id-2 div.sk-estimator input.sk-toggleable__control:checked~label.sk-toggleable__label {background-color: #d4ebff;}#sk-container-id-2 div.sk-label input.sk-toggleable__control:checked~label.sk-toggleable__label {background-color: #d4ebff;}#sk-container-id-2 input.sk-hidden--visually {border: 0;clip: rect(1px 1px 1px 1px);clip: rect(1px, 1px, 1px, 1px);height: 1px;margin: -1px;overflow: hidden;padding: 0;position: absolute;width: 1px;}#sk-container-id-2 div.sk-estimator {font-family: monospace;background-color: #f0f8ff;border: 1px dotted black;border-radius: 0.25em;box-sizing: border-box;margin-bottom: 0.5em;}#sk-container-id-2 div.sk-estimator:hover {background-color: #d4ebff;}#sk-container-id-2 div.sk-parallel-item::after {content: \"\";width: 100%;border-bottom: 1px solid gray;flex-grow: 1;}#sk-container-id-2 div.sk-label:hover label.sk-toggleable__label {background-color: #d4ebff;}#sk-container-id-2 div.sk-serial::before {content: \"\";position: absolute;border-left: 1px solid gray;box-sizing: border-box;top: 0;bottom: 0;left: 50%;z-index: 0;}#sk-container-id-2 div.sk-serial {display: flex;flex-direction: column;align-items: center;background-color: white;padding-right: 0.2em;padding-left: 0.2em;position: relative;}#sk-container-id-2 div.sk-item {position: relative;z-index: 1;}#sk-container-id-2 div.sk-parallel {display: flex;align-items: stretch;justify-content: center;background-color: white;position: relative;}#sk-container-id-2 div.sk-item::before, #sk-container-id-2 div.sk-parallel-item::before {content: \"\";position: absolute;border-left: 1px solid gray;box-sizing: border-box;top: 0;bottom: 0;left: 50%;z-index: -1;}#sk-container-id-2 div.sk-parallel-item {display: flex;flex-direction: column;z-index: 1;position: relative;background-color: white;}#sk-container-id-2 div.sk-parallel-item:first-child::after {align-self: flex-end;width: 50%;}#sk-container-id-2 div.sk-parallel-item:last-child::after {align-self: flex-start;width: 50%;}#sk-container-id-2 div.sk-parallel-item:only-child::after {width: 0;}#sk-container-id-2 div.sk-dashed-wrapped {border: 1px dashed gray;margin: 0 0.4em 0.5em 0.4em;box-sizing: border-box;padding-bottom: 0.4em;background-color: white;}#sk-container-id-2 div.sk-label label {font-family: monospace;font-weight: bold;display: inline-block;line-height: 1.2em;}#sk-container-id-2 div.sk-label-container {text-align: center;}#sk-container-id-2 div.sk-container {/* jupyter's `normalize.less` sets `[hidden] { display: none; }` but bootstrap.min.css set `[hidden] { display: none !important; }` so we also need the `!important` here to be able to override the default hidden behavior on the sphinx rendered scikit-learn.org. See: https://github.com/scikit-learn/scikit-learn/issues/21755 */display: inline-block !important;position: relative;}#sk-container-id-2 div.sk-text-repr-fallback {display: none;}</style><div id=\"sk-container-id-2\" class=\"sk-top-container\"><div class=\"sk-text-repr-fallback\"><pre>RandomForestClassifier(criterion=&#x27;entropy&#x27;, n_estimators=10, n_jobs=20,\n",
       "                       random_state=15)</pre><b>In a Jupyter environment, please rerun this cell to show the HTML representation or trust the notebook. <br />On GitHub, the HTML representation is unable to render, please try loading this page with nbviewer.org.</b></div><div class=\"sk-container\" hidden><div class=\"sk-item\"><div class=\"sk-estimator sk-toggleable\"><input class=\"sk-toggleable__control sk-hidden--visually\" id=\"sk-estimator-id-2\" type=\"checkbox\" checked><label for=\"sk-estimator-id-2\" class=\"sk-toggleable__label sk-toggleable__label-arrow\">RandomForestClassifier</label><div class=\"sk-toggleable__content\"><pre>RandomForestClassifier(criterion=&#x27;entropy&#x27;, n_estimators=10, n_jobs=20,\n",
       "                       random_state=15)</pre></div></div></div></div></div>"
      ],
      "text/plain": [
       "RandomForestClassifier(criterion='entropy', n_estimators=10, n_jobs=20,\n",
       "                       random_state=15)"
      ]
     },
     "execution_count": 18,
     "metadata": {},
     "output_type": "execute_result"
    }
   ],
   "source": [
    "forest = RandomForestClassifier(criterion='entropy',\n",
    "                                 n_estimators=10,\n",
    "                                 random_state=15,\n",
    "                                 n_jobs=20)\n",
    "#entrenamos nuestro modelo\n",
    "forest.fit(atributos_entrenamiento, objetivo_entrenamiento)"
   ]
  },
  {
   "cell_type": "code",
   "execution_count": 19,
   "id": "226c1c54",
   "metadata": {},
   "outputs": [
    {
     "name": "stdout",
     "output_type": "stream",
     "text": [
      "[4 4 3 3 4 3 4 4 4 3 4]\n"
     ]
    }
   ],
   "source": [
    "objetivo_predicho=forest.predict(atributos_prueba)\n",
    "print(codificador_objetivo.inverse_transform(objetivo_predicho))"
   ]
  },
  {
   "cell_type": "code",
   "execution_count": 20,
   "id": "62c856e9",
   "metadata": {},
   "outputs": [
    {
     "ename": "NameError",
     "evalue": "name 'nuevos_ejemplos' is not defined",
     "output_type": "error",
     "traceback": [
      "\u001b[1;31m---------------------------------------------------------------------------\u001b[0m",
      "\u001b[1;31mNameError\u001b[0m                                 Traceback (most recent call last)",
      "Input \u001b[1;32mIn [20]\u001b[0m, in \u001b[0;36m<cell line: 1>\u001b[1;34m()\u001b[0m\n\u001b[1;32m----> 1\u001b[0m predicciones \u001b[38;5;241m=\u001b[39m forest\u001b[38;5;241m.\u001b[39mpredict(codificador_atributos\u001b[38;5;241m.\u001b[39mtransform(\u001b[43mnuevos_ejemplos\u001b[49m))\n\u001b[0;32m      2\u001b[0m \u001b[38;5;28mprint\u001b[39m(\u001b[38;5;124m\"\u001b[39m\u001b[38;5;124mLa predicción de Ranking para el primer Gangster: \u001b[39m\u001b[38;5;124m\"\u001b[39m \u001b[38;5;241m+\u001b[39m \u001b[38;5;28mstr\u001b[39m(codificador_objetivo\u001b[38;5;241m.\u001b[39minverse_transform(predicciones)[\u001b[38;5;241m0\u001b[39m]))\n\u001b[0;32m      3\u001b[0m \u001b[38;5;28mprint\u001b[39m(\u001b[38;5;124m\"\u001b[39m\u001b[38;5;124mLa predicción de Ranking para el segundo Gangster: \u001b[39m\u001b[38;5;124m\"\u001b[39m \u001b[38;5;241m+\u001b[39m \u001b[38;5;28mstr\u001b[39m(codificador_objetivo\u001b[38;5;241m.\u001b[39minverse_transform(predicciones)[\u001b[38;5;241m1\u001b[39m])\u001b[38;5;241m+\u001b[39m\u001b[38;5;124m\"\u001b[39m\u001b[38;5;130;01m\\n\u001b[39;00m\u001b[38;5;124m\"\u001b[39m)\n",
      "\u001b[1;31mNameError\u001b[0m: name 'nuevos_ejemplos' is not defined"
     ]
    }
   ],
   "source": [
    "predicciones = forest.predict(codificador_atributos.transform(nuevos_ejemplos))\n",
    "print(\"La predicción de Ranking para el primer Gangster: \" + str(codificador_objetivo.inverse_transform(predicciones)[0]))\n",
    "print(\"La predicción de Ranking para el segundo Gangster: \" + str(codificador_objetivo.inverse_transform(predicciones)[1])+\"\\n\")\n",
    "forestScore = forest.score(atributos_prueba, objetivo_prueba)\n",
    "print(\"Accuracy:\",forest.score(atributos_prueba, objetivo_prueba))\n"
   ]
  },
  {
   "cell_type": "markdown",
   "id": "4e849696",
   "metadata": {},
   "source": [
    "# ARBOLES DE DECISIÓN"
   ]
  },
  {
   "cell_type": "code",
   "execution_count": null,
   "id": "7e8f2b87",
   "metadata": {
    "scrolled": true
   },
   "outputs": [],
   "source": [
    "clasif_CART = tree.DecisionTreeClassifier(\n",
    "    max_depth=4,  # máxima profundidad del árbol\n",
    "    random_state=55555  # semilla aleatoria\n",
    ")\n",
    "clasif_CART.fit(atributos_entrenamiento, objetivo_entrenamiento)"
   ]
  },
  {
   "cell_type": "code",
   "execution_count": null,
   "id": "6ecbc668",
   "metadata": {},
   "outputs": [],
   "source": [
    "pyplot.figure(figsize=(100, 30))  # Anchura y altura del gráfico\n",
    "árbol = tree.plot_tree(clasif_CART,\n",
    "                       feature_names=codificador_atributos.feature_names_in_,\n",
    "                       class_names=str(codificador_objetivo.classes_))"
   ]
  },
  {
   "cell_type": "code",
   "execution_count": null,
   "id": "13b6ba54",
   "metadata": {},
   "outputs": [],
   "source": [
    "nuevos_ejemplos = pd.DataFrame([[17, 3, 1, 1, 9, 0, 1],\n",
    "                                    [20, 1, 0, 5, 8, 1, 0]],\n",
    "                                   columns=codificador_atributos.feature_names_in_)\n",
    "nuevos_ejemplos"
   ]
  },
  {
   "cell_type": "code",
   "execution_count": null,
   "id": "1472b378",
   "metadata": {},
   "outputs": [],
   "source": [
    "predicciones = clasif_CART.predict(codificador_atributos.transform(nuevos_ejemplos))\n",
    "print(\"La predicción de Ranking para el primer Gangster: \" + str(codificador_objetivo.inverse_transform(predicciones)[0]))\n",
    "print(\"La predicción de Ranking para el segundo Gangster: \" + str(codificador_objetivo.inverse_transform(predicciones)[1]))"
   ]
  },
  {
   "cell_type": "code",
   "execution_count": null,
   "id": "4d5da381",
   "metadata": {},
   "outputs": [],
   "source": [
    "cartScore =clasif_CART.score(atributos_prueba, objetivo_prueba)\n",
    "clasif_CART.score(atributos_prueba, objetivo_prueba)"
   ]
  },
  {
   "cell_type": "markdown",
   "id": "1f6f88b3",
   "metadata": {},
   "source": [
    "# NAIVE BAYES"
   ]
  },
  {
   "cell_type": "code",
   "execution_count": null,
   "id": "a536f0b7",
   "metadata": {},
   "outputs": [],
   "source": [
    "clasif_NB = naive_bayes.CategoricalNB(alpha=1.0)  # alpha es el parámetro de suavizado\n",
    "clasif_NB.fit(atributos_entrenamiento, objetivo_entrenamiento)"
   ]
  },
  {
   "cell_type": "code",
   "execution_count": null,
   "id": "e13e5510",
   "metadata": {
    "scrolled": true
   },
   "outputs": [],
   "source": [
    "for clase, cantidad_ejemplos_clase, log_probabilidad_clase in zip(\n",
    "    codificador_objetivo.classes_, clasif_NB.class_count_, clasif_NB.class_log_prior_):\n",
    "        print(f'Cantidad de ejemplos para la clase {clase}: {cantidad_ejemplos_clase}')\n",
    "        print(f'Logaritmo de la probabilidad aprendida para la clase {clase}: {log_probabilidad_clase}')\n"
   ]
  },
  {
   "cell_type": "code",
   "execution_count": null,
   "id": "66cbe247",
   "metadata": {},
   "outputs": [],
   "source": [
    "for i, atributo in enumerate(codificador_atributos.feature_names_in_):\n",
    "    print(f'Cantidad de ejemplos para el atributo {atributo}:')\n",
    "    print(pd.DataFrame(clasif_NB.category_count_[i],\n",
    "                          columns=codificador_atributos.categories_[i],\n",
    "                          index=codificador_objetivo.classes_))\n",
    "    print(f'Logaritmos de las probabilidades aprendidas para el atributo {atributo}:')\n",
    "    print(pd.DataFrame(clasif_NB.feature_log_prob_[i],\n",
    "                          columns=codificador_atributos.categories_[i],\n",
    "                          index=codificador_objetivo.classes_))\n",
    "    print()"
   ]
  },
  {
   "cell_type": "code",
   "execution_count": null,
   "id": "b619dc5a",
   "metadata": {},
   "outputs": [],
   "source": [
    "predicciones = clasif_NB.predict(codificador_atributos.transform(nuevos_ejemplos))\n",
    "print(\"La predicción de Ranking para el primer Gangster: \" + str(codificador_objetivo.inverse_transform(predicciones)[0]))\n",
    "print(\"La predicción de Ranking para el segundo Gangster: \" + str(codificador_objetivo.inverse_transform(predicciones)[1]))"
   ]
  },
  {
   "cell_type": "code",
   "execution_count": null,
   "id": "9fa14cfc",
   "metadata": {},
   "outputs": [],
   "source": [
    "nbScore = clasif_NB.score(atributos_prueba, objetivo_prueba)\n",
    "clasif_NB.score(atributos_prueba, objetivo_prueba)"
   ]
  },
  {
   "cell_type": "markdown",
   "id": "c4ac5548",
   "metadata": {},
   "source": [
    "# KNN"
   ]
  },
  {
   "cell_type": "code",
   "execution_count": null,
   "id": "d20fa2d6",
   "metadata": {},
   "outputs": [],
   "source": [
    "clasif_kNN = neighbors.KNeighborsClassifier(\n",
    "    n_neighbors=5,  # Número de vecinos a considerar\n",
    "    metric='hamming'  # Distancia de Hamming como métrica de cercanía:\n",
    "                      # fracción de atributos con valores distintos\n",
    ")\n",
    "clasif_kNN.fit(atributos_entrenamiento, objetivo_entrenamiento)\n",
    "\n",
    "\n",
    "predicciones = clasif_kNN.predict(codificador_atributos.transform(nuevos_ejemplos))\n",
    "print(\"La predicción de Ranking para el primer Gangster: \" + str(codificador_objetivo.inverse_transform(predicciones)[0]))\n",
    "print(\"La predicción de Ranking para el segundo Gangster: \" + str(codificador_objetivo.inverse_transform(predicciones)[1]) + \"\\n\")\n",
    "\n",
    "\n",
    "knnScore = clasif_kNN.score(atributos_prueba, objetivo_prueba)\n",
    "print(knnScore)"
   ]
  },
  {
   "cell_type": "markdown",
   "id": "15f28afe",
   "metadata": {},
   "source": [
    "# PROCEDEMOS A METERLE LAS CENTRALIDADES NUEVAS"
   ]
  },
  {
   "cell_type": "code",
   "execution_count": null,
   "id": "ceb88ed2",
   "metadata": {},
   "outputs": [],
   "source": [
    "#leemos los datos indicando que no tenemos cabecera, tambien le quitamos la primera fila y la prmiera columna que son indices\n",
    "aristas = pd.read_csv('LONDON_GANG.csv',header=None)\n",
    "#comienza la matriz desde la fila1, columna1\n",
    "aristas = aristas.iloc[1: ,1:] \n",
    "#mostramos las 10 primeras filas\n",
    "print(aristas.head(10))"
   ]
  },
  {
   "cell_type": "code",
   "execution_count": null,
   "id": "13077dd5",
   "metadata": {},
   "outputs": [],
   "source": [
    "#los atributos que en este caso son las caracteristicas de cada gangster, la linea de header es la fila 0, por defecto es 0\n",
    "nodos = pd.read_csv('LONDON_GANG_ATTR.csv', header=0)\n",
    "#la primera fila la cuenta como header\n",
    "#la columna unnamed: 0 de la quitamos\n",
    "nodos = nodos.iloc[1:, 1:]"
   ]
  },
  {
   "cell_type": "markdown",
   "id": "6ec9bda7",
   "metadata": {},
   "source": [
    "las centralidades las he sacado de:\n",
    "    https://github.com/networkx/networkx/tree/main/networkx/algorithms/centrality"
   ]
  },
  {
   "cell_type": "code",
   "execution_count": null,
   "id": "601ce7bd",
   "metadata": {},
   "outputs": [],
   "source": [
    "betweeness_dicc = nx.betweenness_centrality(grafo)\n",
    "close_dicc = nx.closeness_centrality(grafo)\n",
    "degree_dicc = nx.degree_centrality(grafo)\n",
    "clusters_dicc = nx.clustering(grafo)\n"
   ]
  },
  {
   "cell_type": "code",
   "execution_count": null,
   "id": "7488e95d",
   "metadata": {},
   "outputs": [],
   "source": [
    "centralidad_intermediación = list(betweeness_dicc.values())[1:]\n",
    "centralidad_de_proximidad = list(close_dicc.values())[1:]\n",
    "centralidad_de_grado = list(degree_dicc.values())[1:]\n",
    "clusters = list(clusters_dicc.values())[1:]"
   ]
  },
  {
   "cell_type": "code",
   "execution_count": null,
   "id": "50a1e9e9",
   "metadata": {},
   "outputs": [],
   "source": [
    "nodos.insert(0,\"centralidad_intermediación\", centralidad_intermediación)\n",
    "nodos.insert(1,\"centralidad_de_proximidad\", centralidad_de_proximidad)\n",
    "nodos.insert(2,\"centralidad_de_grado\", centralidad_de_grado)\n",
    "nodos.insert(3,\"clusters\", clusters)\n"
   ]
  },
  {
   "cell_type": "markdown",
   "id": "8614c112",
   "metadata": {},
   "source": [
    "podemos ver como se han introducido"
   ]
  },
  {
   "cell_type": "code",
   "execution_count": null,
   "id": "72b9dcb0",
   "metadata": {},
   "outputs": [],
   "source": [
    "nodos.head(1)"
   ]
  },
  {
   "cell_type": "code",
   "execution_count": null,
   "id": "65345a3d",
   "metadata": {},
   "outputs": [],
   "source": [
    "atributos = nodos\n",
    "objetivo = nodos['Ranking']\n",
    "atributos"
   ]
  },
  {
   "cell_type": "code",
   "execution_count": null,
   "id": "f07ee8a9",
   "metadata": {},
   "outputs": [],
   "source": [
    "codificador_atributos = preprocessing.OrdinalEncoder()\n",
    "codificador_atributos.fit(atributos.iloc[:,:-1])\n",
    "#Con este comando miras los valores que puede haber cuando el atributo ya esta codificado\n",
    "#print(codificador_atributos.categories_)"
   ]
  },
  {
   "cell_type": "code",
   "execution_count": null,
   "id": "abd7e266",
   "metadata": {},
   "outputs": [],
   "source": [
    "atributos_codificados = codificador_atributos.transform(atributos.iloc[:,:-1])\n",
    "#print(atributos_codificados)"
   ]
  },
  {
   "cell_type": "code",
   "execution_count": null,
   "id": "c3cd0d11",
   "metadata": {},
   "outputs": [],
   "source": [
    "codificador_objetivo = preprocessing.LabelEncoder()\n",
    "objetivo_codificado = codificador_objetivo.fit_transform(objetivo)"
   ]
  },
  {
   "cell_type": "code",
   "execution_count": null,
   "id": "797a5680",
   "metadata": {},
   "outputs": [],
   "source": [
    "(atributos_entrenamiento_mejorados, atributos_prueba_mejorados,\n",
    " objetivo_entrenamiento_mejorados, objetivo_prueba_mejorados) = model_selection.train_test_split(\n",
    "        # Conjuntos de datos a dividir, usando los mismos índices para ambos\n",
    "        atributos_codificados, objetivo_codificado,\n",
    "        # Valor de la semilla aleatoria, para que el muestreo sea reproducible,\n",
    "        # a pesar de ser aleatorio\n",
    "        random_state=12345,\n",
    "        # Tamaño del conjunto de prueba\n",
    "        test_size=.20,\n",
    "        # Estratificamos respecto a la distribución de valores en la variable objetivo\n",
    "        stratify=objetivo_codificado)"
   ]
  },
  {
   "cell_type": "code",
   "execution_count": null,
   "id": "50cbdf51",
   "metadata": {},
   "outputs": [],
   "source": [
    "print(objetivo_prueba_mejorados)"
   ]
  },
  {
   "cell_type": "code",
   "execution_count": null,
   "id": "e36139ed",
   "metadata": {},
   "outputs": [],
   "source": [
    "print(atributos_prueba_mejorados)\n"
   ]
  },
  {
   "cell_type": "code",
   "execution_count": null,
   "id": "8b23a919",
   "metadata": {},
   "outputs": [],
   "source": [
    "print(atributos_entrenamiento_mejorados)"
   ]
  },
  {
   "cell_type": "code",
   "execution_count": null,
   "id": "cb62fd9d",
   "metadata": {},
   "outputs": [],
   "source": [
    "\n",
    " print(objetivo_entrenamiento_mejorados)"
   ]
  },
  {
   "cell_type": "code",
   "execution_count": null,
   "id": "03c1fdfe",
   "metadata": {
    "scrolled": true
   },
   "outputs": [],
   "source": [
    "print('Cantidad de ejemplos de pruebas requeridos:', nodos.shape[0] * .20)\n",
    "print('Filas del array de atributos de prueba:', atributos_prueba_mejorados.shape[0])\n",
    "print('Longitud del vector de objetivos de prueba:', len(objetivo_prueba_mejorados))\n",
    "print('Proporción de clases en el vector de objetivos de prueba:')\n",
    "print(pd.Series(\n",
    "        codificador_objetivo.inverse_transform(objetivo_prueba_mejorados)\n",
    "      ).value_counts(normalize=True))"
   ]
  },
  {
   "cell_type": "code",
   "execution_count": null,
   "id": "61b21aba",
   "metadata": {},
   "outputs": [],
   "source": [
    "print('Cantidad de ejemplos de entrenamiento requeridos:', nodos.shape[0] * .80)\n",
    "print('Filas del array de atributos de entrenamiento:', atributos_entrenamiento_mejorados.shape[0])\n",
    "print('Longitud del vector de objetivos de entrenamiento:', len(objetivo_entrenamiento_mejorados))\n",
    "print('Proporción de clases en el vector de objetivos de entrenamiento:')\n",
    "print(pd.Series(# Comprobamos que el \n",
    "        codificador_objetivo.inverse_transform(objetivo_entrenamiento_mejorados)\n",
    "      ).value_counts(normalize=True))"
   ]
  },
  {
   "cell_type": "markdown",
   "id": "6cb6398f",
   "metadata": {},
   "source": [
    "Los modelos los he sacado de la página oficial de sklearn:\n",
    "    https://scikit-learn.org/stable/supervised_learning.html#supervised-learning"
   ]
  },
  {
   "cell_type": "markdown",
   "id": "8ea1616a",
   "metadata": {},
   "source": [
    "# RANDOM FOREST"
   ]
  },
  {
   "cell_type": "code",
   "execution_count": null,
   "id": "8b90b417",
   "metadata": {},
   "outputs": [],
   "source": [
    "forest = RandomForestClassifier(criterion='entropy',\n",
    "                                 n_estimators=10,\n",
    "                                 random_state=15,\n",
    "                                 n_jobs=20)\n",
    "#entrenamos nuestro modelo\n",
    "forest.fit(atributos_entrenamiento_mejorados, objetivo_entrenamiento_mejorados)"
   ]
  },
  {
   "cell_type": "code",
   "execution_count": null,
   "id": "978d5bf4",
   "metadata": {
    "scrolled": true
   },
   "outputs": [],
   "source": [
    "objetivo_predicho=forest.predict(atributos_prueba_mejorados)\n",
    "print(codificador_objetivo.inverse_transform(objetivo_predicho))"
   ]
  },
  {
   "cell_type": "code",
   "execution_count": null,
   "id": "f2b23408",
   "metadata": {},
   "outputs": [],
   "source": [
    "### predicciones = forest.predict(codificador_atributos.transform(nuevos_ejemplos))\n",
    "###print(\"La predicción de Ranking para el primer Gangster: \" + str(codificador_objetivo.inverse_transform(predicciones)[0]))\n",
    "#print(\"La predicción de Ranking para el segundo Gangster: \" + str(codificador_objetivo.inverse_transform(predicciones)[1])+\"\\n\")\n",
    "\n",
    "print(\"Accuracy:\",forest.score(atributos_prueba_mejorados, objetivo_prueba_mejorados))\n"
   ]
  },
  {
   "cell_type": "markdown",
   "id": "0bd39d94",
   "metadata": {},
   "source": [
    "# ARBOLES DE DECISIÓN"
   ]
  },
  {
   "cell_type": "code",
   "execution_count": null,
   "id": "2bf98517",
   "metadata": {
    "scrolled": true
   },
   "outputs": [],
   "source": [
    "clasif_CART = tree.DecisionTreeClassifier(\n",
    "    max_depth=4,  # máxima profundidad del árbol\n",
    "    random_state=55555  # semilla aleatoria\n",
    ")\n",
    "clasif_CART.fit(atributos_entrenamiento_mejorados, objetivo_entrenamiento_mejorados)"
   ]
  },
  {
   "cell_type": "code",
   "execution_count": null,
   "id": "01eca9c2",
   "metadata": {},
   "outputs": [],
   "source": [
    "pyplot.figure(figsize=(100, 30))  # Anchura y altura del gráfico\n",
    "árbol = tree.plot_tree(clasif_CART,\n",
    "                       feature_names=codificador_atributos.feature_names_in_,\n",
    "                       class_names=str(codificador_objetivo.classes_))"
   ]
  },
  {
   "cell_type": "code",
   "execution_count": null,
   "id": "07f7e5a3",
   "metadata": {},
   "outputs": [],
   "source": [
    "#nuevos_ejemplos = pd.DataFrame([[17, 3, 1, 1, 9, 0, 1],\n",
    "                                    #[20, 1, 0, 5, 8, 1, 0]],\n",
    "                                  # columns=codificador_atributos.feature_names_in_)\n",
    "#nuevos_ejemplos"
   ]
  },
  {
   "cell_type": "code",
   "execution_count": null,
   "id": "6afd28f4",
   "metadata": {},
   "outputs": [],
   "source": [
    "#predicciones = clasif_CART.predict(codificador_atributos.transform(nuevos_ejemplos))\n",
    "#print(\"La predicción de Ranking para el primer Gangster: \" + str(codificador_objetivo.inverse_transform(predicciones)[0]))\n",
    "#print(\"La predicción de Ranking para el segundo Gangster: \" + str(codificador_objetivo.inverse_transform(predicciones)[1]))"
   ]
  },
  {
   "cell_type": "code",
   "execution_count": null,
   "id": "4feec4d5",
   "metadata": {},
   "outputs": [],
   "source": [
    "clasif_CART.score(atributos_prueba_mejorados, objetivo_prueba_mejorados)"
   ]
  },
  {
   "cell_type": "markdown",
   "id": "5b8a01e6",
   "metadata": {},
   "source": [
    "# NEIVE BAYES"
   ]
  },
  {
   "cell_type": "code",
   "execution_count": null,
   "id": "70052fe6",
   "metadata": {},
   "outputs": [],
   "source": [
    "clasif_NB = naive_bayes.CategoricalNB(alpha=1.0)  # alpha es el parámetro de suavizado\n",
    "clasif_NB.fit(atributos_entrenamiento_mejorados, objetivo_entrenamiento_mejorados)"
   ]
  },
  {
   "cell_type": "code",
   "execution_count": null,
   "id": "7833294d",
   "metadata": {
    "scrolled": true
   },
   "outputs": [],
   "source": [
    "for clase, cantidad_ejemplos_clase, log_probabilidad_clase in zip(\n",
    "    codificador_objetivo.classes_, clasif_NB.class_count_, clasif_NB.class_log_prior_):\n",
    "        print(f'Cantidad de ejemplos para la clase {clase}: {cantidad_ejemplos_clase}')\n",
    "        print(f'Logaritmo de la probabilidad aprendida para la clase {clase}: {log_probabilidad_clase}')\n"
   ]
  },
  {
   "cell_type": "code",
   "execution_count": null,
   "id": "35f69c6e",
   "metadata": {},
   "outputs": [],
   "source": [
    "for i, atributo in enumerate(codificador_atributos.feature_names_in_):\n",
    "    print(f'Cantidad de ejemplos para el atributo {atributo}:')\n",
    "    print(pd.DataFrame(clasif_NB.category_count_[i],\n",
    "                          columns=codificador_atributos.categories_[i],\n",
    "                          index=codificador_objetivo.classes_))\n",
    "    print(f'Logaritmos de las probabilidades aprendidas para el atributo {atributo}:')\n",
    "    print(pd.DataFrame(clasif_NB.feature_log_prob_[i],\n",
    "                          columns=codificador_atributos.categories_[i],\n",
    "                          index=codificador_objetivo.classes_))\n",
    "    print()"
   ]
  },
  {
   "cell_type": "code",
   "execution_count": null,
   "id": "4b7a01b3",
   "metadata": {},
   "outputs": [],
   "source": [
    "#predicciones = clasif_NB.predict(codificador_atributos.transform(nuevos_ejemplos))\n",
    "#print(\"La predicción de Ranking para el primer Gangster: \" + str(codificador_objetivo.inverse_transform(predicciones)[0]))\n",
    "#print(\"La predicción de Ranking para el segundo Gangster: \" + str(codificador_objetivo.inverse_transform(predicciones)[1]))"
   ]
  },
  {
   "cell_type": "code",
   "execution_count": null,
   "id": "82c26bfa",
   "metadata": {},
   "outputs": [],
   "source": [
    "clasif_NB.score(atributos_prueba_mejorados, objetivo_prueba_mejorados)"
   ]
  },
  {
   "cell_type": "markdown",
   "id": "a2f550db",
   "metadata": {},
   "source": [
    "# KNN"
   ]
  },
  {
   "cell_type": "code",
   "execution_count": null,
   "id": "ab13d5f3",
   "metadata": {},
   "outputs": [],
   "source": [
    "clasif_kNN = neighbors.KNeighborsClassifier(\n",
    "    n_neighbors=5,  # Número de vecinos a considerar\n",
    "    metric='hamming'  # Distancia de Hamming como métrica de cercanía:\n",
    "                      # fracción de atributos con valores distintos\n",
    ")\n",
    "clasif_kNN.fit(atributos_entrenamiento_mejorados, objetivo_entrenamiento_mejorados)\n",
    "\n",
    "\n",
    "#predicciones = clasif_kNN.predict(codificador_atributos.transform(nuevos_ejemplos))\n",
    "#print(\"La predicción de Ranking para el primer Gangster: \" + str(codificador_objetivo.inverse_transform(predicciones)[0]))\n",
    "#print(\"La predicción de Ranking para el segundo Gangster: \" + str(codificador_objetivo.inverse_transform(predicciones)[1]) + \"\\n\")\n",
    "\n",
    "\n",
    "KNN_relacional = clasif_kNN.score(atributos_prueba_mejorados, objetivo_prueba_mejorados)\n",
    "print(KNN_relacional)"
   ]
  },
  {
   "cell_type": "code",
   "execution_count": null,
   "id": "71a55bd0",
   "metadata": {},
   "outputs": [],
   "source": [
    "serie_1 = [forestScore, cartScore, nbScore, knnScore]\n",
    "serie_2 = [forest.score(atributos_prueba_mejorados, objetivo_prueba_mejorados), clasif_CART.score(atributos_prueba_mejorados, objetivo_prueba_mejorados),clasif_NB.score(atributos_prueba_mejorados, objetivo_prueba_mejorados), clasif_kNN.score(atributos_prueba_mejorados,objetivo_prueba_mejorados)]\n",
    " \n",
    " \n",
    "numero_de_grupos = len(serie_1)\n",
    "indice_barras = np.arange(numero_de_grupos)\n",
    "ancho_barras =0.4\n",
    " \n",
    "plt.bar(indice_barras, serie_1, width=ancho_barras, label='Acierto sin metricas relacionales')\n",
    "plt.bar(indice_barras + ancho_barras, serie_2, width=ancho_barras, label='Acierto con metricas relacionales')\n",
    "plt.legend(loc='best')\n",
    "## Se colocan los indicadores en el eje x\n",
    "plt.xticks(indice_barras + ancho_barras, ('Random Forest', 'Árbol de decisión',\"NeiveBayes\", 'kNN'))\n",
    "\n",
    "plt.ylabel('Acierto')\n",
    "plt.xlabel('Método')\n",
    "plt.title('Comparativa de precisión')\n",
    " \n",
    "plt.show()"
   ]
  },
  {
   "cell_type": "code",
   "execution_count": null,
   "id": "46e9af2a",
   "metadata": {},
   "outputs": [],
   "source": [
    "serie_1 = [forestScore]\n",
    "serie_2 = [forest.score(atributos_prueba_mejorados, objetivo_prueba_mejorados),]\n",
    " \n",
    " \n",
    "numero_de_grupos = len(serie_1)\n",
    "indice_barras = np.arange(numero_de_grupos)\n",
    "ancho_barras =0.4\n",
    " \n",
    "plt.bar(indice_barras, serie_1, width=ancho_barras, label='Acierto sin metricas relacionales')\n",
    "plt.bar(indice_barras + ancho_barras, serie_2, width=ancho_barras, label='Acierto con metricas relacionales')\n",
    "plt.legend(loc='best')\n",
    "## Se colocan los indicadores en el eje x\n",
    "plt.xticks(indice_barras + ancho_barras, ('Random Forest', 'Árbol de decisión',\"NeiveBayes\", 'kNN'))\n",
    "\n",
    "plt.ylabel('Acierto')\n",
    "plt.xlabel('Método')\n",
    "plt.title('Comparativa de precisión')\n",
    " \n",
    "plt.show()"
   ]
  },
  {
   "cell_type": "code",
   "execution_count": null,
   "id": "d2cc6800",
   "metadata": {},
   "outputs": [],
   "source": []
  },
  {
   "cell_type": "code",
   "execution_count": null,
   "id": "af160e81",
   "metadata": {},
   "outputs": [],
   "source": []
  },
  {
   "cell_type": "code",
   "execution_count": null,
   "id": "fcc3eb6d",
   "metadata": {},
   "outputs": [],
   "source": []
  },
  {
   "cell_type": "code",
   "execution_count": null,
   "id": "602562b6",
   "metadata": {},
   "outputs": [],
   "source": []
  },
  {
   "cell_type": "code",
   "execution_count": null,
   "id": "f9365bf4",
   "metadata": {},
   "outputs": [],
   "source": []
  },
  {
   "cell_type": "code",
   "execution_count": null,
   "id": "94c5690c",
   "metadata": {},
   "outputs": [],
   "source": []
  },
  {
   "cell_type": "code",
   "execution_count": null,
   "id": "e878cf01",
   "metadata": {},
   "outputs": [],
   "source": [
    "manolete pollete"
   ]
  },
  {
   "cell_type": "code",
   "execution_count": null,
   "id": "bc490184",
   "metadata": {},
   "outputs": [],
   "source": []
  },
  {
   "cell_type": "code",
   "execution_count": null,
   "id": "3f65b423",
   "metadata": {},
   "outputs": [],
   "source": []
  },
  {
   "cell_type": "code",
   "execution_count": null,
   "id": "8de01377",
   "metadata": {},
   "outputs": [],
   "source": []
  },
  {
   "cell_type": "code",
   "execution_count": null,
   "id": "cf29633b",
   "metadata": {},
   "outputs": [],
   "source": []
  }
 ],
 "metadata": {
  "kernelspec": {
   "display_name": "Python 3 (ipykernel)",
   "language": "python",
   "name": "python3"
  },
  "language_info": {
   "codemirror_mode": {
    "name": "ipython",
    "version": 3
   },
   "file_extension": ".py",
   "mimetype": "text/x-python",
   "name": "python",
   "nbconvert_exporter": "python",
   "pygments_lexer": "ipython3",
   "version": "3.9.7"
  }
 },
 "nbformat": 4,
 "nbformat_minor": 5
}
